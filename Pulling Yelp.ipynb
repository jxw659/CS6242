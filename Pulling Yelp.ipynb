{
 "cells": [
  {
   "cell_type": "markdown",
   "id": "ddbc988d",
   "metadata": {},
   "source": [
    "# Geometric square\n",
    "https://geodata-frisco.hub.arcgis.com/datasets/frisco::citylimits/explore"
   ]
  },
  {
   "cell_type": "code",
   "execution_count": 1,
   "id": "331322e6",
   "metadata": {},
   "outputs": [
    {
     "name": "stderr",
     "output_type": "stream",
     "text": [
      "c:\\Users\\jacob\\AppData\\Local\\Programs\\Python\\Python39\\lib\\site-packages\\pyproj\\crs\\crs.py:141: FutureWarning: '+init=<authority>:<code>' syntax is deprecated. '<authority>:<code>' is the preferred initialization method. When making the change, be mindful of axis order changes: https://pyproj4.github.io/pyproj/stable/gotchas.html#axis-order-changes-in-proj-6\n",
      "  in_crs_string = _prepare_from_proj_string(in_crs_string)\n",
      "c:\\Users\\jacob\\AppData\\Local\\Programs\\Python\\Python39\\lib\\site-packages\\pyproj\\crs\\crs.py:141: FutureWarning: '+init=<authority>:<code>' syntax is deprecated. '<authority>:<code>' is the preferred initialization method. When making the change, be mindful of axis order changes: https://pyproj4.github.io/pyproj/stable/gotchas.html#axis-order-changes-in-proj-6\n",
      "  in_crs_string = _prepare_from_proj_string(in_crs_string)\n",
      "C:\\Users\\jacob\\AppData\\Local\\Temp/ipykernel_26896/792836779.py:8: DeprecationWarning: This function is deprecated. See: https://pyproj4.github.io/pyproj/stable/gotchas.html#upgrading-to-pyproj-2-from-pyproj-1\n",
      "  return transform(inProj, outProj, x['X'], x['Y'])\n"
     ]
    }
   ],
   "source": [
    "\n",
    "\n",
    "import pandas as pd\n",
    "from pyproj import Proj, transform\n",
    "\n",
    "data = pd.read_csv('Frisco_1km.csv')\n",
    "inProj = Proj(init='epsg:3857')\n",
    "outProj = Proj(init='epsg:4326')\n",
    "def f(x):\n",
    "    return transform(inProj, outProj, x['X'], x['Y'])\n",
    "\n",
    "coordinates = data.apply(lambda x: f(x), result_type='expand', axis=1)\n",
    "data = pd.concat([data, coordinates], axis=1)\n"
   ]
  },
  {
   "cell_type": "code",
   "execution_count": 2,
   "id": "5651d9ea",
   "metadata": {},
   "outputs": [],
   "source": [
    "data.to_csv('./convertedlocs.csv',index=None)"
   ]
  },
  {
   "cell_type": "code",
   "execution_count": 2,
   "id": "7ea0a514",
   "metadata": {},
   "outputs": [],
   "source": [
    "import requests\n",
    "import json\n",
    "import time\n",
    "import pickle\n",
    "import pandas as pd"
   ]
  },
  {
   "cell_type": "markdown",
   "id": "80d8c1c9",
   "metadata": {},
   "source": [
    "+ Replace API_KEY\n",
    "+ This endpoint is for business search"
   ]
  },
  {
   "cell_type": "code",
   "execution_count": 34,
   "id": "1aa0be81",
   "metadata": {},
   "outputs": [],
   "source": [
    "pos1=data.iloc[0][0]\n",
    "pos2=data.iloc[0][1]"
   ]
  },
  {
   "cell_type": "code",
   "execution_count": 3,
   "id": "59776d97",
   "metadata": {},
   "outputs": [],
   "source": [
    "API_KEY = 'l6CQDw10V0hgHFzX_u14o4ljYf8ok6hEp6o3uJQRfPB805dh24sAKipHyPCE-8HsMoYeRuLbiXnNnreoS_1f101cLDBLmMnHzbFGict5L036QHKw1dzqfMYGCTtXY3Yx'\n",
    "ENDPOINT = 'https://api.yelp.com/v3/businesses/search'\n",
    "HEADERS = {'Authorization': 'bearer %s' % API_KEY}"
   ]
  },
  {
   "cell_type": "markdown",
   "id": "3e5091b3",
   "metadata": {},
   "source": [
    "### Junk TESTS"
   ]
  },
  {
   "cell_type": "code",
   "execution_count": 48,
   "id": "b22879b9",
   "metadata": {},
   "outputs": [],
   "source": [
    "PARAMETERS = {'term': 'restaurant',\n",
    "                  'offset': 0, # this offset is to prevent duplicates\n",
    "                  'limit': 50, \n",
    "                  'latitude':float(pos2),\n",
    "                  'longitude':float(pos1),\n",
    "                  'radius':1000}"
   ]
  },
  {
   "cell_type": "code",
   "execution_count": 49,
   "id": "9d9814c1",
   "metadata": {},
   "outputs": [],
   "source": [
    "response = requests.get(url = ENDPOINT, params= PARAMETERS, headers = HEADERS)"
   ]
  },
  {
   "cell_type": "code",
   "execution_count": 52,
   "id": "5814fb91",
   "metadata": {},
   "outputs": [
    {
     "data": {
      "text/plain": [
       "200"
      ]
     },
     "execution_count": 52,
     "metadata": {},
     "output_type": "execute_result"
    }
   ],
   "source": []
  },
  {
   "cell_type": "markdown",
   "id": "38f7712a",
   "metadata": {},
   "source": [
    "## Functions"
   ]
  },
  {
   "cell_type": "code",
   "execution_count": 4,
   "id": "92f04d5f",
   "metadata": {},
   "outputs": [],
   "source": [
    "def build_PARAMS(lat,long,radius,offset):\n",
    "    params = {'term': 'restaurant',\n",
    "                  'offset': offset, # this offset is to prevent duplicates\n",
    "                  'limit': 50, \n",
    "                  'latitude':float(lat),\n",
    "                  'longitude':float(long),\n",
    "                  'radius':radius}\n",
    "    return(params)\n",
    "\n",
    "def handle_good_return(response,output):\n",
    "    business_data = response.json()\n",
    "    output['businesses'] += business_data['businesses']\n",
    "\n",
    "def handle_bad_response(lat,long,offset_val,output):\n",
    "    retry_flag=True\n",
    "    for i in range(0,3):\n",
    "        if retry_flag:\n",
    "            time.sleep(10)\n",
    "            PARAMETERS=build_PARAMS(lat,long,1000,offset_val)\n",
    "            retry_request=requests.get(url = ENDPOINT, params= PARAMETERS, \n",
    "                headers = HEADERS)\n",
    "            code=retry_request.status_code\n",
    "            if code==200:\n",
    "                retry_flag=False\n",
    "                output=handle_good_return(retry_request,output)\n",
    "                break\n",
    "            else:\n",
    "                print(f'Attempt number {i} failed will retry')\n",
    "                remaining=int(retry_request.headers['ratelimit-remaining'])\n",
    "                if remaining <= 10:\n",
    "                    print(f'Maybe hitting daily limit will sleep until then and retry')\n",
    "                    handle_sleep(retry_request)\n",
    "                pass\n",
    "    if retry_flag:\n",
    "        raise Exception (f'Something is broken here is lat\\\n",
    "            {lat}, long {long}, offset_val {offset_val}',)\n",
    "    else:\n",
    "        return(output)\n",
    "\n",
    "def handle_sleep(retry_request):\n",
    "    reset_time=pd.to_datetime(retry_request.headers['ratelimit-resettime'])\n",
    "    now=pd.Timestamp.utcnow()\n",
    "    remaining_time=reset_time-now\n",
    "    print(f'Should reset in {remaining_time}')\n",
    "    sleeptime=remaining_time.seconds\n",
    "    time.sleep(sleeptime)\n",
    "\n",
    "\n",
    "def handle_multiple_queries(lat,long,li_of_offsets,output,snagflag):\n",
    "    for offset_val in li_of_offsets:\n",
    "        PARAMETERS=build_PARAMS(lat,long,1000,offset_val)\n",
    "        return_request=requests.get(url = ENDPOINT, params= PARAMETERS, \n",
    "        headers = HEADERS)\n",
    "        code=return_request.status_code\n",
    "        if code==200:\n",
    "            output=handle_good_return(return_request,output)\n",
    "        else:\n",
    "            print(f'Request Failed, {code}, going to retry in 10 seconds')\n",
    "            try:\n",
    "                output=handle_bad_response(lat,long,offset_val,output,snagflag)\n",
    "            except:\n",
    "                snagflag=True\n",
    "                print('Hit a Snag')\n",
    "                break\n",
    "    return(output,snagflag)\n",
    "\n",
    "\n",
    "\n"
   ]
  },
  {
   "cell_type": "code",
   "execution_count": 83,
   "id": "4a0b9784",
   "metadata": {},
   "outputs": [],
   "source": []
  },
  {
   "cell_type": "code",
   "execution_count": 81,
   "id": "cc7e83d4",
   "metadata": {},
   "outputs": [
    {
     "data": {
      "text/plain": [
       "12500"
      ]
     },
     "execution_count": 81,
     "metadata": {},
     "output_type": "execute_result"
    }
   ],
   "source": []
  },
  {
   "cell_type": "code",
   "execution_count": 70,
   "id": "fd7a6e99",
   "metadata": {},
   "outputs": [
    {
     "name": "stderr",
     "output_type": "stream",
     "text": [
      "C:\\Users\\jacob\\AppData\\Local\\Temp/ipykernel_26104/475346007.py:1: FutureWarning: The pandas.datetime class is deprecated and will be removed from pandas in a future version. Import from datetime module instead.\n",
      "  pd.to_datetime(pd.datetime.now())\n"
     ]
    },
    {
     "data": {
      "text/plain": [
       "Timestamp('2022-10-25 15:28:14.323446')"
      ]
     },
     "execution_count": 70,
     "metadata": {},
     "output_type": "execute_result"
    }
   ],
   "source": []
  },
  {
   "cell_type": "code",
   "execution_count": 58,
   "id": "f8fa0dc1",
   "metadata": {},
   "outputs": [
    {
     "data": {
      "text/plain": [
       "14"
      ]
     },
     "execution_count": 58,
     "metadata": {},
     "output_type": "execute_result"
    }
   ],
   "source": [
    "(length-50)//50"
   ]
  },
  {
   "cell_type": "code",
   "execution_count": 62,
   "id": "cfb4e31e",
   "metadata": {},
   "outputs": [
    {
     "data": {
      "text/plain": [
       "[50, 100, 150, 200, 250, 300, 350, 400, 450, 500, 550, 600, 650, 700, 750]"
      ]
     },
     "execution_count": 62,
     "metadata": {},
     "output_type": "execute_result"
    }
   ],
   "source": [
    "list(range(50,length,50))"
   ]
  },
  {
   "cell_type": "code",
   "execution_count": 5,
   "id": "da832faa",
   "metadata": {},
   "outputs": [
    {
     "name": "stdout",
     "output_type": "stream",
     "text": [
      "Starting query on (33.219369763091024,-96.92274796186854)\n",
      "Starting query on (33.219369763091024,-96.91376480902734)\n",
      "Starting query on (33.219369763091024,-96.90478165618616)\n",
      "Starting query on (33.219369763091024,-96.89579850334496)\n",
      "Starting query on (33.219369763091024,-96.88681535050375)\n",
      "Starting query on (33.219369763091024,-96.87783219766256)\n",
      "Starting query on (33.219369763091024,-96.86884904482136)\n",
      "Starting query on (33.219369763091024,-96.85986589198018)\n",
      "Starting query on (33.219369763091024,-96.85088273913898)\n",
      "Starting query on (33.219369763091024,-96.84189958629779)\n",
      "Starting query on (33.219369763091024,-96.83291643345659)\n",
      "Starting query on (33.219369763091024,-96.82393328061539)\n",
      "Starting query on (33.219369763091024,-96.8149501277742)\n",
      "Starting query on (33.219369763091024,-96.80596697493301)\n",
      "Starting query on (33.219369763091024,-96.79698382209182)\n",
      "Starting query on (33.219369763091024,-96.78800066925061)\n",
      "Starting query on (33.219369763091024,-96.77901751640941)\n",
      "Starting query on (33.219369763091024,-96.77003436356821)\n",
      "Starting query on (33.219369763091024,-96.76105121072702)\n",
      "Starting query on (33.219369763091024,-96.75206805788584)\n",
      "Starting query on (33.219369763091024,-96.74308490504464)\n",
      "Starting query on (33.219369763091024,-96.73410175220344)\n",
      "Starting query on (33.211854321954455,-96.92274796186854)\n",
      "Starting query on (33.211854321954455,-96.91376480902734)\n",
      "Starting query on (33.211854321954455,-96.90478165618616)\n",
      "Starting query on (33.211854321954455,-96.89579850334496)\n",
      "Starting query on (33.211854321954455,-96.88681535050375)\n",
      "Starting query on (33.211854321954455,-96.87783219766256)\n",
      "Starting query on (33.211854321954455,-96.86884904482136)\n",
      "Starting query on (33.211854321954455,-96.85986589198018)\n",
      "Starting query on (33.211854321954455,-96.85088273913898)\n",
      "Starting query on (33.211854321954455,-96.84189958629779)\n",
      "Starting query on (33.211854321954455,-96.83291643345659)\n",
      "Starting query on (33.211854321954455,-96.82393328061539)\n",
      "Starting query on (33.211854321954455,-96.8149501277742)\n",
      "Starting query on (33.211854321954455,-96.80596697493301)\n",
      "Starting query on (33.211854321954455,-96.79698382209182)\n",
      "Starting query on (33.211854321954455,-96.78800066925061)\n",
      "Starting query on (33.211854321954455,-96.77901751640941)\n",
      "Starting query on (33.211854321954455,-96.77003436356821)\n",
      "Starting query on (33.211854321954455,-96.76105121072702)\n",
      "Starting query on (33.211854321954455,-96.75206805788584)\n",
      "Starting query on (33.211854321954455,-96.74308490504464)\n",
      "Starting query on (33.211854321954455,-96.73410175220344)\n",
      "Starting query on (33.20433823538538,-96.92274796186854)\n",
      "Starting query on (33.20433823538538,-96.91376480902734)\n",
      "Starting query on (33.20433823538538,-96.90478165618616)\n",
      "Starting query on (33.20433823538538,-96.89579850334496)\n",
      "Starting query on (33.20433823538538,-96.88681535050375)\n",
      "Starting query on (33.20433823538538,-96.87783219766256)\n",
      "Starting query on (33.20433823538538,-96.86884904482136)\n",
      "Starting query on (33.20433823538538,-96.85986589198018)\n",
      "Starting query on (33.20433823538538,-96.85088273913898)\n",
      "Starting query on (33.20433823538538,-96.84189958629779)\n",
      "Starting query on (33.20433823538538,-96.83291643345659)\n",
      "Starting query on (33.20433823538538,-96.82393328061539)\n",
      "Starting query on (33.20433823538538,-96.8149501277742)\n",
      "Starting query on (33.20433823538538,-96.80596697493301)\n",
      "Starting query on (33.20433823538538,-96.79698382209182)\n",
      "Starting query on (33.20433823538538,-96.78800066925061)\n",
      "Starting query on (33.20433823538538,-96.77901751640941)\n",
      "Starting query on (33.20433823538538,-96.77003436356821)\n",
      "Starting query on (33.20433823538538,-96.76105121072702)\n",
      "Starting query on (33.20433823538538,-96.75206805788584)\n",
      "Starting query on (33.20433823538538,-96.74308490504464)\n",
      "Starting query on (33.20433823538538,-96.73410175220344)\n",
      "Starting query on (33.19682150345771,-96.92274796186854)\n",
      "Starting query on (33.19682150345771,-96.91376480902734)\n",
      "Starting query on (33.19682150345771,-96.90478165618616)\n",
      "Starting query on (33.19682150345771,-96.89579850334496)\n",
      "Starting query on (33.19682150345771,-96.88681535050375)\n",
      "Starting query on (33.19682150345771,-96.87783219766256)\n",
      "Starting query on (33.19682150345771,-96.86884904482136)\n",
      "Starting query on (33.19682150345771,-96.85986589198018)\n",
      "Starting query on (33.19682150345771,-96.85088273913898)\n",
      "Starting query on (33.19682150345771,-96.84189958629779)\n",
      "Starting query on (33.19682150345771,-96.83291643345659)\n",
      "Starting query on (33.19682150345771,-96.82393328061539)\n",
      "Starting query on (33.19682150345771,-96.8149501277742)\n",
      "Starting query on (33.19682150345771,-96.80596697493301)\n",
      "Starting query on (33.19682150345771,-96.79698382209182)\n",
      "Starting query on (33.19682150345771,-96.78800066925061)\n",
      "Starting query on (33.19682150345771,-96.77901751640941)\n",
      "Starting query on (33.19682150345771,-96.77003436356821)\n",
      "Starting query on (33.19682150345771,-96.76105121072702)\n",
      "Starting query on (33.19682150345771,-96.75206805788584)\n",
      "Starting query on (33.19682150345771,-96.74308490504464)\n",
      "Starting query on (33.19682150345771,-96.73410175220344)\n",
      "Starting query on (33.18930412624544,-96.92274796186854)\n",
      "Starting query on (33.18930412624544,-96.91376480902734)\n",
      "Starting query on (33.18930412624544,-96.90478165618616)\n",
      "Starting query on (33.18930412624544,-96.89579850334496)\n",
      "Starting query on (33.18930412624544,-96.88681535050375)\n",
      "Starting query on (33.18930412624544,-96.87783219766256)\n",
      "Starting query on (33.18930412624544,-96.86884904482136)\n",
      "Starting query on (33.18930412624544,-96.85986589198018)\n",
      "Starting query on (33.18930412624544,-96.85088273913898)\n",
      "Starting query on (33.18930412624544,-96.84189958629779)\n",
      "Starting query on (33.18930412624544,-96.83291643345659)\n",
      "Starting query on (33.18930412624544,-96.82393328061539)\n",
      "Starting query on (33.18930412624544,-96.8149501277742)\n",
      "Starting query on (33.18930412624544,-96.80596697493301)\n",
      "Starting query on (33.18930412624544,-96.79698382209182)\n",
      "Starting query on (33.18930412624544,-96.78800066925061)\n",
      "Starting query on (33.18930412624544,-96.77901751640941)\n",
      "Starting query on (33.18930412624544,-96.77003436356821)\n",
      "Starting query on (33.18930412624544,-96.76105121072702)\n",
      "Starting query on (33.18930412624544,-96.75206805788584)\n",
      "Starting query on (33.18930412624544,-96.74308490504464)\n",
      "Starting query on (33.18930412624544,-96.73410175220344)\n",
      "Starting query on (33.181786103822574,-96.92274796186854)\n",
      "Starting query on (33.181786103822574,-96.91376480902734)\n",
      "Starting query on (33.181786103822574,-96.90478165618616)\n",
      "Starting query on (33.181786103822574,-96.89579850334496)\n",
      "Starting query on (33.181786103822574,-96.88681535050375)\n",
      "Starting query on (33.181786103822574,-96.87783219766256)\n",
      "Starting query on (33.181786103822574,-96.86884904482136)\n",
      "Starting query on (33.181786103822574,-96.85986589198018)\n",
      "Starting query on (33.181786103822574,-96.85088273913898)\n",
      "Starting query on (33.181786103822574,-96.84189958629779)\n",
      "Starting query on (33.181786103822574,-96.83291643345659)\n",
      "Starting query on (33.181786103822574,-96.82393328061539)\n",
      "Starting query on (33.181786103822574,-96.8149501277742)\n",
      "Starting query on (33.181786103822574,-96.80596697493301)\n",
      "Starting query on (33.181786103822574,-96.79698382209182)\n",
      "Starting query on (33.181786103822574,-96.78800066925061)\n",
      "Starting query on (33.181786103822574,-96.77901751640941)\n",
      "Starting query on (33.181786103822574,-96.77003436356821)\n",
      "Starting query on (33.181786103822574,-96.76105121072702)\n",
      "Starting query on (33.181786103822574,-96.75206805788584)\n",
      "Starting query on (33.181786103822574,-96.74308490504464)\n",
      "Starting query on (33.181786103822574,-96.73410175220344)\n",
      "Starting query on (33.174267436263186,-96.92274796186854)\n",
      "Starting query on (33.174267436263186,-96.91376480902734)\n",
      "Starting query on (33.174267436263186,-96.90478165618616)\n",
      "Starting query on (33.174267436263186,-96.89579850334496)\n",
      "Starting query on (33.174267436263186,-96.88681535050375)\n",
      "Starting query on (33.174267436263186,-96.87783219766256)\n",
      "Starting query on (33.174267436263186,-96.86884904482136)\n",
      "Starting query on (33.174267436263186,-96.85986589198018)\n",
      "Starting query on (33.174267436263186,-96.85088273913898)\n",
      "Starting query on (33.174267436263186,-96.84189958629779)\n",
      "Starting query on (33.174267436263186,-96.83291643345659)\n",
      "Starting query on (33.174267436263186,-96.82393328061539)\n",
      "Starting query on (33.174267436263186,-96.8149501277742)\n",
      "Starting query on (33.174267436263186,-96.80596697493301)\n",
      "Starting query on (33.174267436263186,-96.79698382209182)\n",
      "Starting query on (33.174267436263186,-96.78800066925061)\n",
      "Starting query on (33.174267436263186,-96.77901751640941)\n",
      "Starting query on (33.174267436263186,-96.77003436356821)\n",
      "Starting query on (33.174267436263186,-96.76105121072702)\n",
      "Starting query on (33.174267436263186,-96.75206805788584)\n",
      "Starting query on (33.174267436263186,-96.74308490504464)\n",
      "Starting query on (33.174267436263186,-96.73410175220344)\n",
      "Starting query on (33.166748123641405,-96.92274796186854)\n",
      "Starting query on (33.166748123641405,-96.91376480902734)\n",
      "Starting query on (33.166748123641405,-96.90478165618616)\n",
      "Starting query on (33.166748123641405,-96.89579850334496)\n",
      "Starting query on (33.166748123641405,-96.88681535050375)\n",
      "Starting query on (33.166748123641405,-96.87783219766256)\n",
      "Starting query on (33.166748123641405,-96.86884904482136)\n",
      "Starting query on (33.166748123641405,-96.85986589198018)\n",
      "Starting query on (33.166748123641405,-96.85088273913898)\n",
      "Starting query on (33.166748123641405,-96.84189958629779)\n",
      "Starting query on (33.166748123641405,-96.83291643345659)\n",
      "Starting query on (33.166748123641405,-96.82393328061539)\n",
      "Starting query on (33.166748123641405,-96.8149501277742)\n",
      "Starting query on (33.166748123641405,-96.80596697493301)\n",
      "Starting query on (33.166748123641405,-96.79698382209182)\n",
      "Starting query on (33.166748123641405,-96.78800066925061)\n",
      "Starting query on (33.166748123641405,-96.77901751640941)\n",
      "Starting query on (33.166748123641405,-96.77003436356821)\n",
      "Starting query on (33.166748123641405,-96.76105121072702)\n",
      "Starting query on (33.166748123641405,-96.75206805788584)\n",
      "Starting query on (33.166748123641405,-96.74308490504464)\n",
      "Starting query on (33.166748123641405,-96.73410175220344)\n",
      "Starting query on (33.1592281660314,-96.92274796186854)\n",
      "Starting query on (33.1592281660314,-96.91376480902734)\n",
      "Starting query on (33.1592281660314,-96.90478165618616)\n",
      "Starting query on (33.1592281660314,-96.89579850334496)\n",
      "Starting query on (33.1592281660314,-96.88681535050375)\n",
      "Starting query on (33.1592281660314,-96.87783219766256)\n",
      "Starting query on (33.1592281660314,-96.86884904482136)\n"
     ]
    }
   ],
   "source": [
    "output = {}\n",
    "output['businesses'] = []\n",
    "last_remains=5000\n",
    "try_num=0\n",
    "snagflag=False\n",
    "# Okay we're going to iterate over the geographic points\n",
    "for _,row in data.iterrows():\n",
    "    #backwards so 0 last\n",
    "    try:\n",
    "        lat=row[1]\n",
    "        long=row[0]\n",
    "        offset=0\n",
    "        print(f'Starting query on ({lat},{long})')\n",
    "        PARAMETERS=build_PARAMS(lat,long,1000,offset)\n",
    "        starting_response = requests.get(url = ENDPOINT, params= PARAMETERS, headers = HEADERS)\n",
    "        #Congrats it worked\n",
    "        if starting_response.status_code==200:\n",
    "            #write it out before doing anything else\n",
    "            output=handle_good_return(starting_response,output)\n",
    "            #Now what happens if we have more than 50 results\n",
    "            length=starting_response.json()['total']\n",
    "            #1000 is the limit so if its over we need to handle it differently\n",
    "            # Easy Case\n",
    "            if length>50 and length<=1000:\n",
    "                # build out offset list\n",
    "                li_of_offsets=list(range(50,length,50))\n",
    "                #build output in seperate func\n",
    "                output,snagflag=handle_multiple_queries(lat,long,li_of_offsets,output,snagflag)\n",
    "                if snagflag:\n",
    "                    raise Exception\n",
    "            elif length>1000:\n",
    "                #need to reset radius maybe?\n",
    "                raise Exception\n",
    "        else:\n",
    "            output=handle_bad_response(lat,long,offset,output)\n",
    "    except:\n",
    "        going_out=output\n",
    "    \n",
    "\n",
    "    "
   ]
  },
  {
   "cell_type": "code",
   "execution_count": 23,
   "id": "b556902b",
   "metadata": {},
   "outputs": [
    {
     "data": {
      "text/html": [
       "<div>\n",
       "<style scoped>\n",
       "    .dataframe tbody tr th:only-of-type {\n",
       "        vertical-align: middle;\n",
       "    }\n",
       "\n",
       "    .dataframe tbody tr th {\n",
       "        vertical-align: top;\n",
       "    }\n",
       "\n",
       "    .dataframe thead th {\n",
       "        text-align: right;\n",
       "    }\n",
       "</style>\n",
       "<table border=\"1\" class=\"dataframe\">\n",
       "  <thead>\n",
       "    <tr style=\"text-align: right;\">\n",
       "      <th></th>\n",
       "      <th>id</th>\n",
       "      <th>alias</th>\n",
       "      <th>name</th>\n",
       "      <th>image_url</th>\n",
       "      <th>is_closed</th>\n",
       "      <th>url</th>\n",
       "      <th>review_count</th>\n",
       "      <th>categories</th>\n",
       "      <th>rating</th>\n",
       "      <th>coordinates</th>\n",
       "      <th>transactions</th>\n",
       "      <th>price</th>\n",
       "      <th>location</th>\n",
       "      <th>phone</th>\n",
       "      <th>display_phone</th>\n",
       "      <th>distance</th>\n",
       "    </tr>\n",
       "  </thead>\n",
       "  <tbody>\n",
       "    <tr>\n",
       "      <th>0</th>\n",
       "      <td>BbYl_rVZDFPQyT6tuNQDBw</td>\n",
       "      <td>up-inspired-kitchen-frisco</td>\n",
       "      <td>Up Inspired Kitchen</td>\n",
       "      <td>https://s3-media4.fl.yelpcdn.com/bphoto/eH4pAw...</td>\n",
       "      <td>False</td>\n",
       "      <td>https://www.yelp.com/biz/up-inspired-kitchen-f...</td>\n",
       "      <td>395</td>\n",
       "      <td>[{'alias': 'breakfast_brunch', 'title': 'Break...</td>\n",
       "      <td>4.5</td>\n",
       "      <td>{'latitude': 33.1219652678919, 'longitude': -9...</td>\n",
       "      <td>[delivery, pickup]</td>\n",
       "      <td>$$</td>\n",
       "      <td>{'address1': '5285 Dallas Pkwy', 'address2': '...</td>\n",
       "      <td>+14695794197</td>\n",
       "      <td>(469) 579-4197</td>\n",
       "      <td>1228.302654</td>\n",
       "    </tr>\n",
       "    <tr>\n",
       "      <th>1</th>\n",
       "      <td>61iY8WwaOPWo2i5ewXpXLg</td>\n",
       "      <td>lazy-dog-restaurant-and-bar-plano</td>\n",
       "      <td>Lazy Dog Restaurant &amp; Bar</td>\n",
       "      <td>https://s3-media2.fl.yelpcdn.com/bphoto/qCvZ88...</td>\n",
       "      <td>False</td>\n",
       "      <td>https://www.yelp.com/biz/lazy-dog-restaurant-a...</td>\n",
       "      <td>1209</td>\n",
       "      <td>[{'alias': 'newamerican', 'title': 'American (...</td>\n",
       "      <td>4.0</td>\n",
       "      <td>{'latitude': 33.09276, 'longitude': -96.80659}</td>\n",
       "      <td>[delivery, pickup]</td>\n",
       "      <td>$$</td>\n",
       "      <td>{'address1': '8401 Preston Rd', 'address2': No...</td>\n",
       "      <td>+14696091570</td>\n",
       "      <td>(469) 609-1570</td>\n",
       "      <td>4551.497179</td>\n",
       "    </tr>\n",
       "    <tr>\n",
       "      <th>2</th>\n",
       "      <td>ZadjbWA7kQi34IdSJfScow</td>\n",
       "      <td>kitchen-master-frisco</td>\n",
       "      <td>Kitchen Master</td>\n",
       "      <td>https://s3-media2.fl.yelpcdn.com/bphoto/qitrmd...</td>\n",
       "      <td>False</td>\n",
       "      <td>https://www.yelp.com/biz/kitchen-master-frisco...</td>\n",
       "      <td>279</td>\n",
       "      <td>[{'alias': 'chinese', 'title': 'Chinese'}, {'a...</td>\n",
       "      <td>4.0</td>\n",
       "      <td>{'latitude': 33.15484908538643, 'longitude': -...</td>\n",
       "      <td>[delivery, pickup]</td>\n",
       "      <td>$$</td>\n",
       "      <td>{'address1': '9285 Preston Rd', 'address2': No...</td>\n",
       "      <td>+14693628001</td>\n",
       "      <td>(469) 362-8001</td>\n",
       "      <td>2874.194250</td>\n",
       "    </tr>\n",
       "    <tr>\n",
       "      <th>3</th>\n",
       "      <td>q1wWqj67JVn2BWYvTPtRDQ</td>\n",
       "      <td>the-alley-noodle-bar-mckinney-3</td>\n",
       "      <td>The Alley Noodle Bar</td>\n",
       "      <td>https://s3-media3.fl.yelpcdn.com/bphoto/4XDoEr...</td>\n",
       "      <td>False</td>\n",
       "      <td>https://www.yelp.com/biz/the-alley-noodle-bar-...</td>\n",
       "      <td>90</td>\n",
       "      <td>[{'alias': 'noodles', 'title': 'Noodles'}, {'a...</td>\n",
       "      <td>4.5</td>\n",
       "      <td>{'latitude': 33.16069, 'longitude': -96.7205}</td>\n",
       "      <td>[delivery, pickup]</td>\n",
       "      <td>$$</td>\n",
       "      <td>{'address1': '7701 Stacy Rd', 'address2': 'Ste...</td>\n",
       "      <td>+14696251110</td>\n",
       "      <td>(469) 625-1110</td>\n",
       "      <td>9739.774764</td>\n",
       "    </tr>\n",
       "    <tr>\n",
       "      <th>4</th>\n",
       "      <td>_D_r2P-HYK2L-INqzqWzLQ</td>\n",
       "      <td>the-stix-icehouse-mckinney</td>\n",
       "      <td>The Stix Icehouse</td>\n",
       "      <td>https://s3-media2.fl.yelpcdn.com/bphoto/I--I96...</td>\n",
       "      <td>False</td>\n",
       "      <td>https://www.yelp.com/biz/the-stix-icehouse-mck...</td>\n",
       "      <td>178</td>\n",
       "      <td>[{'alias': 'beergardens', 'title': 'Beer Garde...</td>\n",
       "      <td>4.5</td>\n",
       "      <td>{'latitude': 33.178645, 'longitude': -96.622221}</td>\n",
       "      <td>[]</td>\n",
       "      <td>$$</td>\n",
       "      <td>{'address1': '301 W Eldorado Pkwy', 'address2'...</td>\n",
       "      <td>+12145928335</td>\n",
       "      <td>(214) 592-8335</td>\n",
       "      <td>19044.327682</td>\n",
       "    </tr>\n",
       "    <tr>\n",
       "      <th>...</th>\n",
       "      <td>...</td>\n",
       "      <td>...</td>\n",
       "      <td>...</td>\n",
       "      <td>...</td>\n",
       "      <td>...</td>\n",
       "      <td>...</td>\n",
       "      <td>...</td>\n",
       "      <td>...</td>\n",
       "      <td>...</td>\n",
       "      <td>...</td>\n",
       "      <td>...</td>\n",
       "      <td>...</td>\n",
       "      <td>...</td>\n",
       "      <td>...</td>\n",
       "      <td>...</td>\n",
       "      <td>...</td>\n",
       "    </tr>\n",
       "    <tr>\n",
       "      <th>945</th>\n",
       "      <td>Sskny3NwoWK9LFEZvF_cBQ</td>\n",
       "      <td>oceanic-thai-kitchen-plano</td>\n",
       "      <td>Oceanic Thai Kitchen</td>\n",
       "      <td>https://s3-media3.fl.yelpcdn.com/bphoto/_oYP-k...</td>\n",
       "      <td>False</td>\n",
       "      <td>https://www.yelp.com/biz/oceanic-thai-kitchen-...</td>\n",
       "      <td>475</td>\n",
       "      <td>[{'alias': 'thai', 'title': 'Thai'}]</td>\n",
       "      <td>4.5</td>\n",
       "      <td>{'latitude': 33.019066, 'longitude': -96.795977}</td>\n",
       "      <td>[delivery, pickup]</td>\n",
       "      <td>$$</td>\n",
       "      <td>{'address1': '1501 Preston Rd', 'address2': 'S...</td>\n",
       "      <td>+14697790749</td>\n",
       "      <td>(469) 779-0749</td>\n",
       "      <td>12777.386331</td>\n",
       "    </tr>\n",
       "    <tr>\n",
       "      <th>946</th>\n",
       "      <td>4FKHod0E7CqiepnxD6uVNQ</td>\n",
       "      <td>viet-spices-bep-co-nien-plano</td>\n",
       "      <td>Viet Spices Bep Co Nien</td>\n",
       "      <td>https://s3-media1.fl.yelpcdn.com/bphoto/lAkSpx...</td>\n",
       "      <td>False</td>\n",
       "      <td>https://www.yelp.com/biz/viet-spices-bep-co-ni...</td>\n",
       "      <td>5</td>\n",
       "      <td>[{'alias': 'vietnamese', 'title': 'Vietnamese'}]</td>\n",
       "      <td>4.0</td>\n",
       "      <td>{'latitude': 33.0397833, 'longitude': -96.6970...</td>\n",
       "      <td>[delivery, pickup]</td>\n",
       "      <td>NaN</td>\n",
       "      <td>{'address1': '3320 K Ave', 'address2': '', 'ad...</td>\n",
       "      <td></td>\n",
       "      <td></td>\n",
       "      <td>15335.284318</td>\n",
       "    </tr>\n",
       "    <tr>\n",
       "      <th>947</th>\n",
       "      <td>Lo9eM2etjIWBtu1GRjXHnw</td>\n",
       "      <td>salsa-tex-mex-prosper</td>\n",
       "      <td>Salsa Tex Mex</td>\n",
       "      <td>https://s3-media1.fl.yelpcdn.com/bphoto/9IXo8K...</td>\n",
       "      <td>False</td>\n",
       "      <td>https://www.yelp.com/biz/salsa-tex-mex-prosper...</td>\n",
       "      <td>139</td>\n",
       "      <td>[{'alias': 'tex-mex', 'title': 'Tex-Mex'}]</td>\n",
       "      <td>4.0</td>\n",
       "      <td>{'latitude': 33.248486238359455, 'longitude': ...</td>\n",
       "      <td>[delivery]</td>\n",
       "      <td>$$</td>\n",
       "      <td>{'address1': '1170 N Preston Rd', 'address2': ...</td>\n",
       "      <td>+19723464643</td>\n",
       "      <td>(972) 346-4643</td>\n",
       "      <td>13366.492348</td>\n",
       "    </tr>\n",
       "    <tr>\n",
       "      <th>948</th>\n",
       "      <td>FccMCWg7-EaSEN__d8CofQ</td>\n",
       "      <td>branding-iron-garland</td>\n",
       "      <td>Branding Iron</td>\n",
       "      <td>https://s3-media4.fl.yelpcdn.com/bphoto/B7UMR5...</td>\n",
       "      <td>False</td>\n",
       "      <td>https://www.yelp.com/biz/branding-iron-garland...</td>\n",
       "      <td>3</td>\n",
       "      <td>[{'alias': 'restaurants', 'title': 'Restaurant...</td>\n",
       "      <td>3.5</td>\n",
       "      <td>{'latitude': 32.968063, 'longitude': -96.620316}</td>\n",
       "      <td>[]</td>\n",
       "      <td>NaN</td>\n",
       "      <td>{'address1': '1535 E Brand Rd', 'address2': No...</td>\n",
       "      <td>+19722053958</td>\n",
       "      <td>(972) 205-3958</td>\n",
       "      <td>26015.865757</td>\n",
       "    </tr>\n",
       "    <tr>\n",
       "      <th>949</th>\n",
       "      <td>R6S3ZQnsHz5iSDGsh0fcag</td>\n",
       "      <td>yan-pan-asian-plano</td>\n",
       "      <td>Yan Pan Asian</td>\n",
       "      <td>https://s3-media4.fl.yelpcdn.com/bphoto/kJUqXe...</td>\n",
       "      <td>False</td>\n",
       "      <td>https://www.yelp.com/biz/yan-pan-asian-plano?a...</td>\n",
       "      <td>6</td>\n",
       "      <td>[{'alias': 'chinese', 'title': 'Chinese'}, {'a...</td>\n",
       "      <td>3.5</td>\n",
       "      <td>{'latitude': 33.08318, 'longitude': -96.82585}</td>\n",
       "      <td>[]</td>\n",
       "      <td>NaN</td>\n",
       "      <td>{'address1': '7800 Windrose Ave', 'address2': ...</td>\n",
       "      <td></td>\n",
       "      <td></td>\n",
       "      <td>5491.417337</td>\n",
       "    </tr>\n",
       "  </tbody>\n",
       "</table>\n",
       "<p>950 rows × 16 columns</p>\n",
       "</div>"
      ],
      "text/plain": [
       "                         id                              alias  \\\n",
       "0    BbYl_rVZDFPQyT6tuNQDBw         up-inspired-kitchen-frisco   \n",
       "1    61iY8WwaOPWo2i5ewXpXLg  lazy-dog-restaurant-and-bar-plano   \n",
       "2    ZadjbWA7kQi34IdSJfScow              kitchen-master-frisco   \n",
       "3    q1wWqj67JVn2BWYvTPtRDQ    the-alley-noodle-bar-mckinney-3   \n",
       "4    _D_r2P-HYK2L-INqzqWzLQ         the-stix-icehouse-mckinney   \n",
       "..                      ...                                ...   \n",
       "945  Sskny3NwoWK9LFEZvF_cBQ         oceanic-thai-kitchen-plano   \n",
       "946  4FKHod0E7CqiepnxD6uVNQ      viet-spices-bep-co-nien-plano   \n",
       "947  Lo9eM2etjIWBtu1GRjXHnw              salsa-tex-mex-prosper   \n",
       "948  FccMCWg7-EaSEN__d8CofQ              branding-iron-garland   \n",
       "949  R6S3ZQnsHz5iSDGsh0fcag                yan-pan-asian-plano   \n",
       "\n",
       "                          name  \\\n",
       "0          Up Inspired Kitchen   \n",
       "1    Lazy Dog Restaurant & Bar   \n",
       "2               Kitchen Master   \n",
       "3        The Alley Noodle Bar    \n",
       "4            The Stix Icehouse   \n",
       "..                         ...   \n",
       "945       Oceanic Thai Kitchen   \n",
       "946    Viet Spices Bep Co Nien   \n",
       "947              Salsa Tex Mex   \n",
       "948              Branding Iron   \n",
       "949              Yan Pan Asian   \n",
       "\n",
       "                                             image_url  is_closed  \\\n",
       "0    https://s3-media4.fl.yelpcdn.com/bphoto/eH4pAw...      False   \n",
       "1    https://s3-media2.fl.yelpcdn.com/bphoto/qCvZ88...      False   \n",
       "2    https://s3-media2.fl.yelpcdn.com/bphoto/qitrmd...      False   \n",
       "3    https://s3-media3.fl.yelpcdn.com/bphoto/4XDoEr...      False   \n",
       "4    https://s3-media2.fl.yelpcdn.com/bphoto/I--I96...      False   \n",
       "..                                                 ...        ...   \n",
       "945  https://s3-media3.fl.yelpcdn.com/bphoto/_oYP-k...      False   \n",
       "946  https://s3-media1.fl.yelpcdn.com/bphoto/lAkSpx...      False   \n",
       "947  https://s3-media1.fl.yelpcdn.com/bphoto/9IXo8K...      False   \n",
       "948  https://s3-media4.fl.yelpcdn.com/bphoto/B7UMR5...      False   \n",
       "949  https://s3-media4.fl.yelpcdn.com/bphoto/kJUqXe...      False   \n",
       "\n",
       "                                                   url  review_count  \\\n",
       "0    https://www.yelp.com/biz/up-inspired-kitchen-f...           395   \n",
       "1    https://www.yelp.com/biz/lazy-dog-restaurant-a...          1209   \n",
       "2    https://www.yelp.com/biz/kitchen-master-frisco...           279   \n",
       "3    https://www.yelp.com/biz/the-alley-noodle-bar-...            90   \n",
       "4    https://www.yelp.com/biz/the-stix-icehouse-mck...           178   \n",
       "..                                                 ...           ...   \n",
       "945  https://www.yelp.com/biz/oceanic-thai-kitchen-...           475   \n",
       "946  https://www.yelp.com/biz/viet-spices-bep-co-ni...             5   \n",
       "947  https://www.yelp.com/biz/salsa-tex-mex-prosper...           139   \n",
       "948  https://www.yelp.com/biz/branding-iron-garland...             3   \n",
       "949  https://www.yelp.com/biz/yan-pan-asian-plano?a...             6   \n",
       "\n",
       "                                            categories  rating  \\\n",
       "0    [{'alias': 'breakfast_brunch', 'title': 'Break...     4.5   \n",
       "1    [{'alias': 'newamerican', 'title': 'American (...     4.0   \n",
       "2    [{'alias': 'chinese', 'title': 'Chinese'}, {'a...     4.0   \n",
       "3    [{'alias': 'noodles', 'title': 'Noodles'}, {'a...     4.5   \n",
       "4    [{'alias': 'beergardens', 'title': 'Beer Garde...     4.5   \n",
       "..                                                 ...     ...   \n",
       "945               [{'alias': 'thai', 'title': 'Thai'}]     4.5   \n",
       "946   [{'alias': 'vietnamese', 'title': 'Vietnamese'}]     4.0   \n",
       "947         [{'alias': 'tex-mex', 'title': 'Tex-Mex'}]     4.0   \n",
       "948  [{'alias': 'restaurants', 'title': 'Restaurant...     3.5   \n",
       "949  [{'alias': 'chinese', 'title': 'Chinese'}, {'a...     3.5   \n",
       "\n",
       "                                           coordinates        transactions  \\\n",
       "0    {'latitude': 33.1219652678919, 'longitude': -9...  [delivery, pickup]   \n",
       "1       {'latitude': 33.09276, 'longitude': -96.80659}  [delivery, pickup]   \n",
       "2    {'latitude': 33.15484908538643, 'longitude': -...  [delivery, pickup]   \n",
       "3        {'latitude': 33.16069, 'longitude': -96.7205}  [delivery, pickup]   \n",
       "4     {'latitude': 33.178645, 'longitude': -96.622221}                  []   \n",
       "..                                                 ...                 ...   \n",
       "945   {'latitude': 33.019066, 'longitude': -96.795977}  [delivery, pickup]   \n",
       "946  {'latitude': 33.0397833, 'longitude': -96.6970...  [delivery, pickup]   \n",
       "947  {'latitude': 33.248486238359455, 'longitude': ...          [delivery]   \n",
       "948   {'latitude': 32.968063, 'longitude': -96.620316}                  []   \n",
       "949     {'latitude': 33.08318, 'longitude': -96.82585}                  []   \n",
       "\n",
       "    price                                           location         phone  \\\n",
       "0      $$  {'address1': '5285 Dallas Pkwy', 'address2': '...  +14695794197   \n",
       "1      $$  {'address1': '8401 Preston Rd', 'address2': No...  +14696091570   \n",
       "2      $$  {'address1': '9285 Preston Rd', 'address2': No...  +14693628001   \n",
       "3      $$  {'address1': '7701 Stacy Rd', 'address2': 'Ste...  +14696251110   \n",
       "4      $$  {'address1': '301 W Eldorado Pkwy', 'address2'...  +12145928335   \n",
       "..    ...                                                ...           ...   \n",
       "945    $$  {'address1': '1501 Preston Rd', 'address2': 'S...  +14697790749   \n",
       "946   NaN  {'address1': '3320 K Ave', 'address2': '', 'ad...                 \n",
       "947    $$  {'address1': '1170 N Preston Rd', 'address2': ...  +19723464643   \n",
       "948   NaN  {'address1': '1535 E Brand Rd', 'address2': No...  +19722053958   \n",
       "949   NaN  {'address1': '7800 Windrose Ave', 'address2': ...                 \n",
       "\n",
       "      display_phone      distance  \n",
       "0    (469) 579-4197   1228.302654  \n",
       "1    (469) 609-1570   4551.497179  \n",
       "2    (469) 362-8001   2874.194250  \n",
       "3    (469) 625-1110   9739.774764  \n",
       "4    (214) 592-8335  19044.327682  \n",
       "..              ...           ...  \n",
       "945  (469) 779-0749  12777.386331  \n",
       "946                  15335.284318  \n",
       "947  (972) 346-4643  13366.492348  \n",
       "948  (972) 205-3958  26015.865757  \n",
       "949                   5491.417337  \n",
       "\n",
       "[950 rows x 16 columns]"
      ]
     },
     "execution_count": 23,
     "metadata": {},
     "output_type": "execute_result"
    }
   ],
   "source": [
    "pd.DataFrame(output['businesses'])"
   ]
  },
  {
   "cell_type": "code",
   "execution_count": 15,
   "id": "e5773c90",
   "metadata": {},
   "outputs": [
    {
     "data": {
      "text/plain": [
       "dict_keys(['businesses', 'total', 'region'])"
      ]
     },
     "execution_count": 15,
     "metadata": {},
     "output_type": "execute_result"
    }
   ],
   "source": [
    "stash_last_response.json().keys()"
   ]
  },
  {
   "cell_type": "code",
   "execution_count": 16,
   "id": "c735be58",
   "metadata": {},
   "outputs": [
    {
     "data": {
      "text/plain": [
       "3400"
      ]
     },
     "execution_count": 16,
     "metadata": {},
     "output_type": "execute_result"
    }
   ],
   "source": [
    "stash_last_response.json()['total']"
   ]
  },
  {
   "cell_type": "code",
   "execution_count": 22,
   "id": "410abdb0",
   "metadata": {},
   "outputs": [
    {
     "name": "stdout",
     "output_type": "stream",
     "text": [
      "0\n",
      "50\n"
     ]
    }
   ],
   "source": [
    "for i in range(0,100,50):\n",
    "    print(i)"
   ]
  },
  {
   "cell_type": "code",
   "execution_count": 12,
   "id": "b4449f58",
   "metadata": {},
   "outputs": [],
   "source": [
    "with open ('Frisco_pickle_test_data.pickle','wb') as handle:\n",
    "    pickle.dump(output, handle, protocol=pickle.HIGHEST_PROTOCOL)"
   ]
  },
  {
   "cell_type": "markdown",
   "id": "198f23c3",
   "metadata": {},
   "source": [
    "+ Write output to text file"
   ]
  },
  {
   "cell_type": "code",
   "execution_count": 10,
   "id": "f9aba172",
   "metadata": {},
   "outputs": [],
   "source": [
    "with open('business_search_enterprise.txt', 'w') as convert_file:\n",
    "     convert_file.write(json.dumps(output))"
   ]
  },
  {
   "cell_type": "code",
   "execution_count": 4,
   "id": "023e0d21",
   "metadata": {},
   "outputs": [
    {
     "name": "stdout",
     "output_type": "stream",
     "text": [
      "1000\n"
     ]
    }
   ],
   "source": [
    "# how many businesses?\n",
    "count = 0\n",
    "for x in output:\n",
    "    if isinstance(output[x], list):\n",
    "        count += len(output[x])\n",
    "print(count)"
   ]
  },
  {
   "cell_type": "markdown",
   "id": "2f91e55f",
   "metadata": {},
   "source": [
    "Get list of business ids to feed the endpoint for business details. One call = 1 business ID"
   ]
  },
  {
   "cell_type": "code",
   "execution_count": 11,
   "id": "924311a0",
   "metadata": {},
   "outputs": [],
   "source": [
    "my_list = output['businesses']\n",
    "business_id = [d['id'] for d in my_list]\n",
    "\n",
    "business_details = []\n",
    "\n",
    "for i in business_id:\n",
    "    b_id = i\n",
    "    ENDPOINT = 'https://api.yelp.com/v3/businesses/%s' % b_id\n",
    "    response = requests.get(url = ENDPOINT, headers = HEADERS)\n",
    "    business_data = response.json()\n",
    "    business_details.append(business_data)"
   ]
  },
  {
   "cell_type": "markdown",
   "id": "33ec6431",
   "metadata": {},
   "source": [
    "Write file to txt"
   ]
  },
  {
   "cell_type": "code",
   "execution_count": 15,
   "id": "1097e6bf",
   "metadata": {},
   "outputs": [
    {
     "name": "stdout",
     "output_type": "stream",
     "text": [
      "Done\n"
     ]
    }
   ],
   "source": [
    "with open('business_details_enterprise.txt', 'w',encoding=\"utf-8\") as fp:\n",
    "    for item in business_details:\n",
    "        # write each item on a new line\n",
    "        fp.write(\"%s\\n\" % item)\n",
    "    print('Done')"
   ]
  }
 ],
 "metadata": {
  "kernelspec": {
   "display_name": "Python 3.9.2 64-bit",
   "language": "python",
   "name": "python3"
  },
  "language_info": {
   "codemirror_mode": {
    "name": "ipython",
    "version": 3
   },
   "file_extension": ".py",
   "mimetype": "text/x-python",
   "name": "python",
   "nbconvert_exporter": "python",
   "pygments_lexer": "ipython3",
   "version": "3.9.2"
  },
  "vscode": {
   "interpreter": {
    "hash": "5947ab11aa91afdebed581b46ae670574dbdbbdd478d709f15487840c8e3fdf9"
   }
  }
 },
 "nbformat": 4,
 "nbformat_minor": 5
}
