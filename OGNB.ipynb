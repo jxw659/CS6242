{
 "cells": [
  {
   "cell_type": "code",
   "execution_count": 1,
   "id": "7ea0a514",
   "metadata": {},
   "outputs": [],
   "source": [
    "import requests\n",
    "import json"
   ]
  },
  {
   "cell_type": "markdown",
   "id": "80d8c1c9",
   "metadata": {},
   "source": [
    "+ Replace API_KEY\n",
    "+ This endpoint is for business search"
   ]
  },
  {
   "cell_type": "code",
   "execution_count": 2,
   "id": "59776d97",
   "metadata": {},
   "outputs": [],
   "source": [
    "API_KEY = ''\n",
    "ENDPOINT = 'https://api.yelp.com/v3/businesses/search'\n",
    "HEADERS = {'Authorization': 'bearer %s' % API_KEY}"
   ]
  },
  {
   "cell_type": "code",
   "execution_count": null,
   "id": "da832faa",
   "metadata": {},
   "outputs": [],
   "source": [
    "output = {}\n",
    "output['businesses'] = []\n",
    "for i in range(0,10000,50): # this pulls 10,000 records in increments of 50\n",
    "    PARAMETERS = {'term': 'restaurant',\n",
    "                  'offset': i, # this offset is to prevent duplicates\n",
    "                  'limit': 50, \n",
    "                  'location': 'Enterprise, NV'} # replace with city \n",
    "    response = requests.get(url = ENDPOINT, params= PARAMETERS, headers = HEADERS)\n",
    "    business_data = response.json()\n",
    "    output['businesses'] += business_data['businesses'] "
   ]
  },
  {
   "cell_type": "markdown",
   "id": "198f23c3",
   "metadata": {},
   "source": [
    "+ Write output to text file"
   ]
  },
  {
   "cell_type": "code",
   "execution_count": 10,
   "id": "f9aba172",
   "metadata": {},
   "outputs": [],
   "source": [
    "with open('business_search_enterprise.txt', 'w') as convert_file:\n",
    "     convert_file.write(json.dumps(output))"
   ]
  },
  {
   "cell_type": "code",
   "execution_count": 4,
   "id": "023e0d21",
   "metadata": {},
   "outputs": [
    {
     "name": "stdout",
     "output_type": "stream",
     "text": [
      "1000\n"
     ]
    }
   ],
   "source": [
    "# how many businesses?\n",
    "count = 0\n",
    "for x in output:\n",
    "    if isinstance(output[x], list):\n",
    "        count += len(output[x])\n",
    "print(count)"
   ]
  },
  {
   "cell_type": "markdown",
   "id": "2f91e55f",
   "metadata": {},
   "source": [
    "Get list of business ids to feed the endpoint for business details. One call = 1 business ID"
   ]
  },
  {
   "cell_type": "code",
   "execution_count": 11,
   "id": "924311a0",
   "metadata": {},
   "outputs": [],
   "source": [
    "my_list = output['businesses']\n",
    "business_id = [d['id'] for d in my_list]\n",
    "\n",
    "business_details = []\n",
    "\n",
    "for i in business_id:\n",
    "    b_id = i\n",
    "    ENDPOINT = 'https://api.yelp.com/v3/businesses/%s' % b_id\n",
    "    response = requests.get(url = ENDPOINT, headers = HEADERS)\n",
    "    business_data = response.json()\n",
    "    business_details.append(business_data)"
   ]
  },
  {
   "cell_type": "markdown",
   "id": "33ec6431",
   "metadata": {},
   "source": [
    "Write file to txt"
   ]
  },
  {
   "cell_type": "code",
   "execution_count": 15,
   "id": "1097e6bf",
   "metadata": {},
   "outputs": [
    {
     "name": "stdout",
     "output_type": "stream",
     "text": [
      "Done\n"
     ]
    }
   ],
   "source": [
    "with open('business_details_enterprise.txt', 'w',encoding=\"utf-8\") as fp:\n",
    "    for item in business_details:\n",
    "        # write each item on a new line\n",
    "        fp.write(\"%s\\n\" % item)\n",
    "    print('Done')"
   ]
  }
 ],
 "metadata": {
  "kernelspec": {
   "display_name": "Python 3 (ipykernel)",
   "language": "python",
   "name": "python3"
  },
  "language_info": {
   "codemirror_mode": {
    "name": "ipython",
    "version": 3
   },
   "file_extension": ".py",
   "mimetype": "text/x-python",
   "name": "python",
   "nbconvert_exporter": "python",
   "pygments_lexer": "ipython3",
   "version": "3.9.12"
  }
 },
 "nbformat": 4,
 "nbformat_minor": 5
}
