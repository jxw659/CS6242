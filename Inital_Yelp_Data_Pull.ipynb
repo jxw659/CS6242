{
 "cells": [
  {
   "cell_type": "markdown",
   "id": "3cd16cca",
   "metadata": {},
   "source": [
    "# Notebook For Geo cleaning, Pulling Yelp Data, and Pulling secondary Yelp Information\n",
    "## Guide\n",
    "This notebook is broken down into three sections and is meant to be run interactively. The process for each city is done once and the flow can be run from cell to cell.\n",
    "The steps are as follows:\n",
    "1. Modify the data coming out of QGIS so that we have the correct longitude and latitude information\n",
    "    \n",
    "    1a. Take that data and output for usage if necessary later in the GeoData/Cityname/covertedlocs_cityname.csv format\n",
    "2. Take the locations as input into the fuction to query Yelp. API Key Redacted.\n",
    "    \n",
    "    2a. It should be noted that we over enginered the querying function to account for failures which should not occur.\n",
    "3. The data is then exported to./GeoInfo/raw_cityname.csv\n",
    "    \n",
    "    3a. There is a function written to read this back in\n",
    "4. The data is then de-duplicated ( which is expected), to account for the fact that we likely overlapped the radius of any one point at least 4 times.\n",
    "    \n",
    "    4a. Yelp has a second API query function built in that allows the user to query some secondary information so we query this\n",
    "5. The data is then passed out for cleaning"
   ]
  },
  {
   "cell_type": "markdown",
   "id": "facb0fdf",
   "metadata": {},
   "source": [
    "# GeoData Cleaning out of QGIS\n",
    "Using pandas as pyproj we take in the 1km spaced locations transform the outputs projection from epsg 3857 to espg 4326 ( 4326 is the coordinate grid that google maps and most GPS services use).\n",
    "This is then exported to the appropiate file in the ./Geodata/cityname/convertedlocs_cityname.csv"
   ]
  },
  {
   "cell_type": "markdown",
   "id": "df5e915b",
   "metadata": {},
   "source": [
    "## Frisco"
   ]
  },
  {
   "cell_type": "code",
   "execution_count": 5,
   "id": "331322e6",
   "metadata": {},
   "outputs": [
    {
     "name": "stderr",
     "output_type": "stream",
     "text": [
      "c:\\Users\\jacob\\AppData\\Local\\Programs\\Python\\Python39\\lib\\site-packages\\pyproj\\crs\\crs.py:141: FutureWarning: '+init=<authority>:<code>' syntax is deprecated. '<authority>:<code>' is the preferred initialization method. When making the change, be mindful of axis order changes: https://pyproj4.github.io/pyproj/stable/gotchas.html#axis-order-changes-in-proj-6\n",
      "  in_crs_string = _prepare_from_proj_string(in_crs_string)\n",
      "c:\\Users\\jacob\\AppData\\Local\\Programs\\Python\\Python39\\lib\\site-packages\\pyproj\\crs\\crs.py:141: FutureWarning: '+init=<authority>:<code>' syntax is deprecated. '<authority>:<code>' is the preferred initialization method. When making the change, be mindful of axis order changes: https://pyproj4.github.io/pyproj/stable/gotchas.html#axis-order-changes-in-proj-6\n",
      "  in_crs_string = _prepare_from_proj_string(in_crs_string)\n",
      "C:\\Users\\jacob\\AppData\\Local\\Temp/ipykernel_8156/2680116714.py:8: DeprecationWarning: This function is deprecated. See: https://pyproj4.github.io/pyproj/stable/gotchas.html#upgrading-to-pyproj-2-from-pyproj-1\n",
      "  return transform(inProj, outProj, x['X'], x['Y'])\n"
     ]
    }
   ],
   "source": [
    "import pandas as pd\n",
    "from pyproj import Proj, transform\n",
    "\n",
    "data = pd.read_csv('./GeoData/Frisco/Frisco_1km.csv')\n",
    "inProj = Proj(init='epsg:3857')\n",
    "outProj = Proj(init='epsg:4326')\n",
    "def f(x):\n",
    "    return transform(inProj, outProj, x['X'], x['Y'])\n",
    "\n",
    "coordinates = data.apply(lambda x: f(x), result_type='expand', axis=1)\n",
    "data = pd.concat([data, coordinates], axis=1)\n",
    "\n",
    "data.to_csv('./GeoData/Frisco/convertedlocs_Frisco.csv',index=None)"
   ]
  },
  {
   "cell_type": "markdown",
   "id": "996c337b",
   "metadata": {},
   "source": [
    "## Dallas"
   ]
  },
  {
   "cell_type": "code",
   "execution_count": 1,
   "id": "72365836",
   "metadata": {},
   "outputs": [
    {
     "name": "stderr",
     "output_type": "stream",
     "text": [
      "c:\\Users\\jacob\\AppData\\Local\\Programs\\Python\\Python39\\lib\\site-packages\\pyproj\\crs\\crs.py:141: FutureWarning: '+init=<authority>:<code>' syntax is deprecated. '<authority>:<code>' is the preferred initialization method. When making the change, be mindful of axis order changes: https://pyproj4.github.io/pyproj/stable/gotchas.html#axis-order-changes-in-proj-6\n",
      "  in_crs_string = _prepare_from_proj_string(in_crs_string)\n",
      "c:\\Users\\jacob\\AppData\\Local\\Programs\\Python\\Python39\\lib\\site-packages\\pyproj\\crs\\crs.py:141: FutureWarning: '+init=<authority>:<code>' syntax is deprecated. '<authority>:<code>' is the preferred initialization method. When making the change, be mindful of axis order changes: https://pyproj4.github.io/pyproj/stable/gotchas.html#axis-order-changes-in-proj-6\n",
      "  in_crs_string = _prepare_from_proj_string(in_crs_string)\n",
      "C:\\Users\\jacob\\AppData\\Local\\Temp/ipykernel_5840/2143987137.py:8: DeprecationWarning: This function is deprecated. See: https://pyproj4.github.io/pyproj/stable/gotchas.html#upgrading-to-pyproj-2-from-pyproj-1\n",
      "  return transform(inProj, outProj, x['X'], x['Y'])\n"
     ]
    }
   ],
   "source": [
    "import pandas as pd\n",
    "from pyproj import Proj, transform\n",
    "\n",
    "data = pd.read_csv('./GeoData/Dallas/Dallas_1km_grid.csv')\n",
    "inProj = Proj(init='epsg:3857')\n",
    "outProj = Proj(init='epsg:4326')\n",
    "def f(x):\n",
    "    return transform(inProj, outProj, x['X'], x['Y'])\n",
    "\n",
    "coordinates = data.apply(lambda x: f(x), result_type='expand', axis=1)\n",
    "data = pd.concat([data, coordinates], axis=1)\n",
    "\n",
    "data.to_csv('./GeoData/Dallas/convertedlocs_dallas.csv',index=None)"
   ]
  },
  {
   "cell_type": "markdown",
   "id": "2a9d057b",
   "metadata": {},
   "source": [
    "## Enterprise"
   ]
  },
  {
   "cell_type": "code",
   "execution_count": 4,
   "id": "decf76f9",
   "metadata": {},
   "outputs": [
    {
     "name": "stderr",
     "output_type": "stream",
     "text": [
      "c:\\Users\\jacob\\AppData\\Local\\Programs\\Python\\Python39\\lib\\site-packages\\pyproj\\crs\\crs.py:141: FutureWarning: '+init=<authority>:<code>' syntax is deprecated. '<authority>:<code>' is the preferred initialization method. When making the change, be mindful of axis order changes: https://pyproj4.github.io/pyproj/stable/gotchas.html#axis-order-changes-in-proj-6\n",
      "  in_crs_string = _prepare_from_proj_string(in_crs_string)\n",
      "c:\\Users\\jacob\\AppData\\Local\\Programs\\Python\\Python39\\lib\\site-packages\\pyproj\\crs\\crs.py:141: FutureWarning: '+init=<authority>:<code>' syntax is deprecated. '<authority>:<code>' is the preferred initialization method. When making the change, be mindful of axis order changes: https://pyproj4.github.io/pyproj/stable/gotchas.html#axis-order-changes-in-proj-6\n",
      "  in_crs_string = _prepare_from_proj_string(in_crs_string)\n",
      "C:\\Users\\jacob\\AppData\\Local\\Temp/ipykernel_32660/159647112.py:8: DeprecationWarning: This function is deprecated. See: https://pyproj4.github.io/pyproj/stable/gotchas.html#upgrading-to-pyproj-2-from-pyproj-1\n",
      "  return transform(inProj, outProj, x['X'], x['Y'])\n"
     ]
    }
   ],
   "source": [
    "import pandas as pd\n",
    "from pyproj import Proj, transform\n",
    "\n",
    "data = pd.read_csv('./GeoData/Enterprise/Enterprise_1km.csv')\n",
    "inProj = Proj(init='epsg:3857')\n",
    "outProj = Proj(init='epsg:4326')\n",
    "def f(x):\n",
    "    return transform(inProj, outProj, x['X'], x['Y'])\n",
    "\n",
    "coordinates = data.apply(lambda x: f(x), result_type='expand', axis=1)\n",
    "data = pd.concat([data, coordinates], axis=1)\n",
    "\n",
    "data.to_csv('./GeoData/Enterprise/convertedlocs_Enterprise.csv',index=None)"
   ]
  },
  {
   "cell_type": "markdown",
   "id": "16614648",
   "metadata": {},
   "source": [
    "## Conroe"
   ]
  },
  {
   "cell_type": "code",
   "execution_count": 39,
   "id": "3683977d",
   "metadata": {},
   "outputs": [
    {
     "name": "stderr",
     "output_type": "stream",
     "text": [
      "c:\\Users\\jacob\\AppData\\Local\\Programs\\Python\\Python39\\lib\\site-packages\\pyproj\\crs\\crs.py:141: FutureWarning: '+init=<authority>:<code>' syntax is deprecated. '<authority>:<code>' is the preferred initialization method. When making the change, be mindful of axis order changes: https://pyproj4.github.io/pyproj/stable/gotchas.html#axis-order-changes-in-proj-6\n",
      "  in_crs_string = _prepare_from_proj_string(in_crs_string)\n",
      "c:\\Users\\jacob\\AppData\\Local\\Programs\\Python\\Python39\\lib\\site-packages\\pyproj\\crs\\crs.py:141: FutureWarning: '+init=<authority>:<code>' syntax is deprecated. '<authority>:<code>' is the preferred initialization method. When making the change, be mindful of axis order changes: https://pyproj4.github.io/pyproj/stable/gotchas.html#axis-order-changes-in-proj-6\n",
      "  in_crs_string = _prepare_from_proj_string(in_crs_string)\n",
      "C:\\Users\\jacob\\AppData\\Local\\Temp/ipykernel_29252/4138034963.py:8: DeprecationWarning: This function is deprecated. See: https://pyproj4.github.io/pyproj/stable/gotchas.html#upgrading-to-pyproj-2-from-pyproj-1\n",
      "  return transform(inProj, outProj, x['X'], x['Y'])\n"
     ]
    }
   ],
   "source": [
    "import pandas as pd\n",
    "from pyproj import Proj, transform\n",
    "\n",
    "data = pd.read_csv('./GeoData/Conroe/conroe_1km_dots.csv')\n",
    "inProj = Proj(init='epsg:3857')\n",
    "outProj = Proj(init='epsg:4326')\n",
    "def f(x):\n",
    "    return transform(inProj, outProj, x['X'], x['Y'])\n",
    "\n",
    "coordinates = data.apply(lambda x: f(x), result_type='expand', axis=1)\n",
    "data = pd.concat([data, coordinates], axis=1)\n",
    "\n",
    "data.to_csv('./GeoInfo/convertedlocs_Conroe.csv',index=None)"
   ]
  },
  {
   "cell_type": "markdown",
   "id": "fa01efce",
   "metadata": {},
   "source": [
    "## Meridian"
   ]
  },
  {
   "cell_type": "code",
   "execution_count": 25,
   "id": "f4677e1d",
   "metadata": {},
   "outputs": [
    {
     "name": "stderr",
     "output_type": "stream",
     "text": [
      "c:\\Users\\jacob\\AppData\\Local\\Programs\\Python\\Python39\\lib\\site-packages\\pyproj\\crs\\crs.py:141: FutureWarning: '+init=<authority>:<code>' syntax is deprecated. '<authority>:<code>' is the preferred initialization method. When making the change, be mindful of axis order changes: https://pyproj4.github.io/pyproj/stable/gotchas.html#axis-order-changes-in-proj-6\n",
      "  in_crs_string = _prepare_from_proj_string(in_crs_string)\n",
      "c:\\Users\\jacob\\AppData\\Local\\Programs\\Python\\Python39\\lib\\site-packages\\pyproj\\crs\\crs.py:141: FutureWarning: '+init=<authority>:<code>' syntax is deprecated. '<authority>:<code>' is the preferred initialization method. When making the change, be mindful of axis order changes: https://pyproj4.github.io/pyproj/stable/gotchas.html#axis-order-changes-in-proj-6\n",
      "  in_crs_string = _prepare_from_proj_string(in_crs_string)\n",
      "C:\\Users\\jacob\\AppData\\Local\\Temp/ipykernel_29252/2271665886.py:8: DeprecationWarning: This function is deprecated. See: https://pyproj4.github.io/pyproj/stable/gotchas.html#upgrading-to-pyproj-2-from-pyproj-1\n",
      "  return transform(inProj, outProj, x['X'], x['Y'])\n"
     ]
    }
   ],
   "source": [
    "import pandas as pd\n",
    "from pyproj import Proj, transform\n",
    "\n",
    "data = pd.read_csv('./GeoData/Meridian/MerdianGrid.csv')\n",
    "inProj = Proj(init='epsg:3857')\n",
    "outProj = Proj(init='epsg:4326')\n",
    "def f(x):\n",
    "    return transform(inProj, outProj, x['X'], x['Y'])\n",
    "\n",
    "coordinates = data.apply(lambda x: f(x), result_type='expand', axis=1)\n",
    "data = pd.concat([data, coordinates], axis=1)\n",
    "data.to_csv('./GeoInfo/convertedlocs_Merdian.csv',index=None)"
   ]
  },
  {
   "cell_type": "markdown",
   "id": "a5a17dfa",
   "metadata": {},
   "source": [
    "# Yelp Pull by Grid\n",
    "Here we have the functions, for loop, and methods we use to save and export the data.\n",
    "It should be noted that the functions here are meant to be run manually, as Error handling was necessacry as the loop ran."
   ]
  },
  {
   "cell_type": "code",
   "execution_count": 6,
   "id": "7ea0a514",
   "metadata": {},
   "outputs": [],
   "source": [
    "import requests\n",
    "import json\n",
    "import time\n",
    "import pickle\n",
    "import pandas as pd"
   ]
  },
  {
   "cell_type": "markdown",
   "id": "80d8c1c9",
   "metadata": {},
   "source": [
    "+ Replace API_KEY\n",
    "+ This endpoint is for business search"
   ]
  },
  {
   "cell_type": "code",
   "execution_count": 7,
   "id": "59776d97",
   "metadata": {},
   "outputs": [],
   "source": [
    "API_KEY = 'REMOVED'\n",
    "ENDPOINT = 'https://api.yelp.com/v3/businesses/search'\n",
    "HEADERS = {'Authorization': 'bearer %s' % API_KEY}"
   ]
  },
  {
   "cell_type": "markdown",
   "id": "38f7712a",
   "metadata": {},
   "source": [
    "## Functions"
   ]
  },
  {
   "cell_type": "code",
   "execution_count": 8,
   "id": "92f04d5f",
   "metadata": {},
   "outputs": [],
   "source": [
    "def build_PARAMS(lat,long,radius,offset):\n",
    "    \"\"\"\n",
    "    Purpose:\n",
    "    Build out Param dictionary for the search.\n",
    "    Params:\n",
    "    * lat -> Float of the latitude\n",
    "    * long -> Float of longitude\n",
    "    * radius -> float of distance to check around geographic point\n",
    "    * offset -> an int that is basically the page number\n",
    "    Output:\n",
    "    The params we want to pass to search in dictonary form.\n",
    "    \"\"\"\n",
    "    params = {'term': 'restaurant',\n",
    "                  'offset': offset, # this offset is to prevent duplicates\n",
    "                  'limit': 50, \n",
    "                  'latitude':float(lat),\n",
    "                  'longitude':float(long),\n",
    "                  'radius':radius}\n",
    "    return(params)\n",
    "\n",
    "def handle_good_return(response,output):\n",
    "    \"\"\"\n",
    "    Purpose:\n",
    "    Handle a response that we know is good and contains data\n",
    "    Params:\n",
    "    * response -> The response from the yelp api in json format\n",
    "    * output -> the list of dictonares we're bulding out\n",
    "    Output:\n",
    "    * output -> a list of dictonaries\n",
    "    \"\"\"\n",
    "    business_data = response.json()\n",
    "    output['businesses'] += business_data['businesses']\n",
    "    return(output)\n",
    "\n",
    "def handle_bad_response(lat,long,offset_val,output):\n",
    "    \"\"\"\n",
    "    Purpose:\n",
    "    Try to search again if there was a bad response\n",
    "    Params:\n",
    "    * lat -> Float of the latitude\n",
    "    * long -> Float of longitude\n",
    "    * offset -> an int that is basically the page number\n",
    "    * output -> the output list of buisness which is a list of dicts\n",
    "    Output:\n",
    "    A couple of things can happen we get a sucessfule requery and the output is passed back out.\n",
    "    Else the for loop using this might break with an informative message.\n",
    "    \"\"\"\n",
    "    retry_flag=True\n",
    "    for i in range(0,3):\n",
    "        if retry_flag:\n",
    "            time.sleep(10)\n",
    "            PARAMETERS=build_PARAMS(lat,long,1000,offset_val)\n",
    "            retry_request=requests.get(url = ENDPOINT, params= PARAMETERS, \n",
    "                headers = HEADERS)\n",
    "            code=retry_request.status_code\n",
    "            if code==200:\n",
    "                retry_flag=False\n",
    "                output=handle_good_return(retry_request,output)\n",
    "                break\n",
    "            else:\n",
    "                print(f'Attempt number {i} failed will retry')\n",
    "                remaining=int(retry_request.headers['ratelimit-remaining'])\n",
    "                if remaining <= 10:\n",
    "                    print(f'Maybe hitting daily limit will sleep until then and retry')\n",
    "                    handle_sleep(retry_request)\n",
    "                pass\n",
    "    if retry_flag:\n",
    "        raise Exception (f'Something is broken here is lat\\\n",
    "            {lat}, long {long}, offset_val {offset_val}',)\n",
    "    else:\n",
    "        return(output)\n",
    "\n",
    "def handle_sleep(retry_request):\n",
    "    \"\"\"\n",
    "    Purpose:\n",
    "    Handle Sleeping the queries due to a need to sleep the query\n",
    "    Input:\n",
    "    retry_request - > dictonary with the retry information\n",
    "    Output:\n",
    "    Nothing - the function is just used a time spacer\n",
    "    \"\"\"\n",
    "    reset_time=pd.to_datetime(retry_request.headers['ratelimit-resettime'])\n",
    "    now=pd.Timestamp.utcnow()\n",
    "    remaining_time=reset_time-now\n",
    "    print(f'Should reset in {remaining_time}')\n",
    "    sleeptime=remaining_time.seconds\n",
    "    time.sleep(sleeptime)\n",
    "\n",
    "\n",
    "def handle_multiple_queries(lat,long,li_of_offsets,output,snagflag):\n",
    "    \"\"\"\n",
    "    Purpose:\n",
    "    Try to search again if there was a bad response\n",
    "    Params:\n",
    "    * lat -> Float of the latitude\n",
    "    * long -> Float of longitude\n",
    "    * li_of_offsets -> a lsit of ints that is basically the page number\n",
    "    * output -> the output list of buisness which is a list of dicts\n",
    "    * snagflag - > a Bool meant to handle problems\n",
    "    Output:\n",
    "    Output the list of dicts, and the snagflag to tell the loop if there was an issue that needs to be retried\n",
    "    \"\"\"\n",
    "    for offset_val in li_of_offsets:\n",
    "        PARAMETERS=build_PARAMS(lat,long,1000,offset_val)\n",
    "        return_request=requests.get(url = ENDPOINT, params= PARAMETERS, \n",
    "        headers = HEADERS)\n",
    "        code=return_request.status_code\n",
    "        if code==200:\n",
    "            output=handle_good_return(return_request,output)\n",
    "        else:\n",
    "            print(f'Request Failed, {code}, going to retry in 10 seconds')\n",
    "            try:\n",
    "                output=handle_bad_response(lat,long,offset_val,output,snagflag)\n",
    "            except:\n",
    "                snagflag=True\n",
    "                print('Hit a Snag')\n",
    "                break\n",
    "    return(output,snagflag)\n",
    "\n"
   ]
  },
  {
   "cell_type": "markdown",
   "id": "dbd36247",
   "metadata": {},
   "source": [
    "## Pull For Loop\n",
    "This loop is the main brain for pulling the information and getting the data out. It takes the functions above and handles all the queries.\n",
    "**Note** This function is meant to be run manually to troubleshoot. We did not encounter any errors while running so its *assumed* that the functions are robust enough"
   ]
  },
  {
   "cell_type": "code",
   "execution_count": 9,
   "id": "c0020691",
   "metadata": {},
   "outputs": [],
   "source": [
    "for _,row in data.iterrows():\n",
    "    #backwards so 0 last\n",
    "    lat=row[1]\n",
    "    long=row[0]\n",
    "    offset=0\n",
    "    break"
   ]
  },
  {
   "cell_type": "code",
   "execution_count": 14,
   "id": "cffb6db0",
   "metadata": {},
   "outputs": [],
   "source": [
    "PARAMETERS=build_PARAMS(lat,long,40_000,offset)"
   ]
  },
  {
   "cell_type": "code",
   "execution_count": 15,
   "id": "e770388f",
   "metadata": {},
   "outputs": [],
   "source": [
    "starting_response = requests.get(url = ENDPOINT, params= PARAMETERS, headers = HEADERS)"
   ]
  },
  {
   "cell_type": "code",
   "execution_count": 16,
   "id": "b65f59b1",
   "metadata": {},
   "outputs": [
    {
     "data": {
      "text/plain": [
       "b'{\"error\": {\"code\": \"ACCESS_LIMIT_REACHED\", \"description\": \"You\\'ve reached the access limit for this client. See instructions for requesting a higher access limit at https://www.yelp.com/developers/documentation/v3/rate_limiting\"}}'"
      ]
     },
     "execution_count": 16,
     "metadata": {},
     "output_type": "execute_result"
    }
   ],
   "source": [
    "starting_response.content"
   ]
  },
  {
   "cell_type": "code",
   "execution_count": 5,
   "id": "da832faa",
   "metadata": {},
   "outputs": [
    {
     "name": "stdout",
     "output_type": "stream",
     "text": [
      "Starting query on (33.219369763091024,-96.92274796186854)\n",
      "Output Size is 0\n",
      "Attempt number 0 failed will retry\n",
      "Maybe hitting daily limit will sleep until then and retry\n",
      "Should reset in 0 days 06:33:51.408616\n"
     ]
    }
   ],
   "source": [
    "output = {}\n",
    "output['businesses'] = []\n",
    "last_remains=5000\n",
    "try_num=0\n",
    "snagflag=False\n",
    "# Okay we're going to iterate over the geographic points\n",
    "for _,row in data.iterrows():\n",
    "    #backwards so 0 last\n",
    "    lat=row[1]\n",
    "    long=row[0]\n",
    "    offset=0\n",
    "    print(f'Starting query on ({lat},{long})')\n",
    "    print(f'Output Size is {len(output[\"businesses\"])}')\n",
    "    PARAMETERS=build_PARAMS(lat,long,50_000,offset)\n",
    "    starting_response = requests.get(url = ENDPOINT, params= PARAMETERS, headers = HEADERS)\n",
    "    #Congrats it worked\n",
    "    if starting_response.status_code==200:\n",
    "        #write it out before doing anything else\n",
    "        output=handle_good_return(starting_response,output)\n",
    "        #Now what happens if we have more than 50 results\n",
    "        length=starting_response.json()['total']\n",
    "        #1000 is the limit so if its over we need to handle it differently\n",
    "        # Easy Case\n",
    "        if length>50 and length<=1000:\n",
    "            # build out offset list\n",
    "            li_of_offsets=list(range(50,length,50))\n",
    "            #build output in seperate func\n",
    "            output,snagflag=handle_multiple_queries(lat,long,li_of_offsets,output,snagflag)\n",
    "            if snagflag:\n",
    "                raise Exception\n",
    "        elif length>1000:\n",
    "            #need to reset radius maybe?\n",
    "            raise Exception\n",
    "    else:\n",
    "        output=handle_bad_response(lat,long,offset,output)\n",
    "    "
   ]
  },
  {
   "cell_type": "markdown",
   "id": "3718b6ef",
   "metadata": {},
   "source": [
    "### Ouput Data\n",
    "Here we store the data in text format in caase we need it again."
   ]
  },
  {
   "cell_type": "code",
   "execution_count": null,
   "id": "5263e258",
   "metadata": {},
   "outputs": [],
   "source": [
    "pd.DataFrame(output['businesses']).to_csv('./GeoInfo/raw_Frisco.csv')"
   ]
  },
  {
   "cell_type": "markdown",
   "id": "04cfd550",
   "metadata": {},
   "source": [
    "### Function for reading Data Back in"
   ]
  },
  {
   "cell_type": "code",
   "execution_count": 14,
   "id": "6beb36bc",
   "metadata": {},
   "outputs": [],
   "source": [
    "def read_in_old_raw_data(filepath):\n",
    "    \"\"\"Simple Script to read old data \n",
    "    back in filepath is expected to be a string\"\"\"\n",
    "    return(pd.read_csv(filepath,index_col=0))"
   ]
  },
  {
   "cell_type": "markdown",
   "id": "03853ca2",
   "metadata": {},
   "source": [
    "Most of these are showing out the city limits its no wonder"
   ]
  },
  {
   "cell_type": "markdown",
   "id": "2f91e55f",
   "metadata": {},
   "source": [
    "## Pull Yelp secondary information\n",
    "\n",
    "Here we assume you have the output information still read into memory. If note the function above should be used and the re-read flag set to True."
   ]
  },
  {
   "cell_type": "code",
   "execution_count": null,
   "id": "ab9185b6",
   "metadata": {},
   "outputs": [],
   "source": [
    "def dedup_output(output, cityname,re_read=False):\n",
    "    if type(output)==str and re_read==True:\n",
    "        frame=read_in_old_raw_data(output)\n",
    "    else:\n",
    "        frame=pd.DataFrame(output['businesses'])\n",
    "    frame=frame[frame['id'].duplicated(keep='first')]\n",
    "    fn='./GeoInfo/dedup_'+cityname+'.csv'\n",
    "    frame.to_csv(fn)\n",
    "    return frame"
   ]
  },
  {
   "cell_type": "markdown",
   "id": "98ed9d9e",
   "metadata": {},
   "source": [
    "### Example of how Dallas' data was run"
   ]
  },
  {
   "cell_type": "code",
   "execution_count": null,
   "id": "fb668c5e",
   "metadata": {},
   "outputs": [],
   "source": [
    "frame=dedup_output(output,'dallas')"
   ]
  },
  {
   "cell_type": "markdown",
   "id": "8fd00092",
   "metadata": {},
   "source": [
    "### Continue search\n",
    "Here we simply iterate through the buisness ids to get the information here"
   ]
  },
  {
   "cell_type": "code",
   "execution_count": 12,
   "id": "924311a0",
   "metadata": {},
   "outputs": [],
   "source": [
    "\n",
    "business_id = frame['id'].to_list()\n",
    "business_details = []\n",
    "\n",
    "for i in business_id:\n",
    "    b_id = i\n",
    "    ENDPOINT = 'https://api.yelp.com/v3/businesses/%s' % b_id\n",
    "    response = requests.get(url = ENDPOINT, headers = HEADERS)\n",
    "    business_data = response.json()\n",
    "    business_details.append(business_data)"
   ]
  },
  {
   "cell_type": "markdown",
   "id": "33ec6431",
   "metadata": {},
   "source": [
    "Write file to txt"
   ]
  },
  {
   "cell_type": "code",
   "execution_count": 13,
   "id": "2720e1d2",
   "metadata": {},
   "outputs": [],
   "source": [
    "pd.DataFrame(business_details).to_csv('./All_Available_Dallas_Data_MoreINFO.csv')"
   ]
  }
 ],
 "metadata": {
  "kernelspec": {
   "display_name": "Python 3.9.2 64-bit",
   "language": "python",
   "name": "python3"
  },
  "language_info": {
   "codemirror_mode": {
    "name": "ipython",
    "version": 3
   },
   "file_extension": ".py",
   "mimetype": "text/x-python",
   "name": "python",
   "nbconvert_exporter": "python",
   "pygments_lexer": "ipython3",
   "version": "3.9.2"
  },
  "vscode": {
   "interpreter": {
    "hash": "5947ab11aa91afdebed581b46ae670574dbdbbdd478d709f15487840c8e3fdf9"
   }
  }
 },
 "nbformat": 4,
 "nbformat_minor": 5
}
