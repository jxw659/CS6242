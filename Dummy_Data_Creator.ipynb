{
 "cells": [
  {
   "cell_type": "markdown",
   "id": "9587cec9",
   "metadata": {},
   "source": [
    "### Purpose\n",
    "This notebook creates a data set of dummy data. Each row of the dummy data will consist of a possible combination of values based on the columns and possible values given in a dictionary. \n",
    "The final data set will be loaded into Tableau so that the user can select any feature to find out the probability their restaurant succeeds."
   ]
  },
  {
   "cell_type": "code",
   "execution_count": 1,
   "id": "a07f33e5",
   "metadata": {},
   "outputs": [],
   "source": [
    "#import necessary libraries\n",
    "import pandas as pd\n",
    "import numpy as np\n",
    "import itertools"
   ]
  },
  {
   "cell_type": "code",
   "execution_count": 2,
   "id": "166daa9f",
   "metadata": {},
   "outputs": [],
   "source": [
    "#create dictionary of columns and possible values\n",
    "value_dict = {\n",
    "  'is_claimed': [0,1],\n",
    "  'restaurant_categoryamerican': [0,1],\n",
    "  'restaurant_categoryasian': [0,1],\n",
    "  'restaurant_categorybreakfast': [0,1],\n",
    "  'restaurant_categorydesserts': [0,1],\n",
    "  'restaurant_categoryeuropean': [0,1],\n",
    "  'restaurant_categoryhawaiian': [0,1],\n",
    "  'restaurant_categorylatin': [0,1],\n",
    "  'restaurant_categorymideastern': [0,1],\n",
    "  'restaurant_categoryother': [0,1],\n",
    "  'pickup': [0,1],\n",
    "  'delivery': [0,1],\n",
    "  'reservation': [0,1],\n",
    "  'priceVeryHigh': [0,1],\n",
    "  'priceHigh': [0,1],\n",
    "  'priceMedium': [0,1],\n",
    "  'priceLow': [0,1],\n",
    "  'messaging': [0,1],\n",
    "  'Open_Breakfast': [0,1],\n",
    "  'Open_Lunch': [0,1],\n",
    "  'Open_Dinner': [0,1],\n",
    "  'Open_Late': [0,1]\n",
    "}"
   ]
  },
  {
   "cell_type": "code",
   "execution_count": 3,
   "id": "167c9db1",
   "metadata": {},
   "outputs": [],
   "source": [
    "def dummy_generator(var_dict):\n",
    "    #get list of dictionary keys\n",
    "    keys = list(var_dict.keys())\n",
    "    #create list of all possible combinations of values for the data set\n",
    "    combo = list(itertools.product(*[var_dict[key] for key in keys]))\n",
    "    #create dataframe using combo list as values and dictionary keys as columns\n",
    "    df = pd.DataFrame(combo,columns = keys)\n",
    "    #drop duplicates and reset index of dataframe\n",
    "    df = df.drop_duplicates().reset_index(drop = True)\n",
    "    #return dataframe\n",
    "    return df"
   ]
  },
  {
   "cell_type": "code",
   "execution_count": 4,
   "id": "ea015649",
   "metadata": {},
   "outputs": [],
   "source": [
    "#create dummy data\n",
    "dummy_data = dummy_generator(value_dict)"
   ]
  },
  {
   "cell_type": "code",
   "execution_count": 5,
   "id": "b9bd4270",
   "metadata": {},
   "outputs": [],
   "source": [
    "#send dummy data to a csv file\n",
    "dummy_data.to_csv(\"Dummy_data.csv\")"
   ]
  }
 ],
 "metadata": {
  "kernelspec": {
   "display_name": "Python 3",
   "language": "python",
   "name": "python3"
  },
  "language_info": {
   "codemirror_mode": {
    "name": "ipython",
    "version": 3
   },
   "file_extension": ".py",
   "mimetype": "text/x-python",
   "name": "python",
   "nbconvert_exporter": "python",
   "pygments_lexer": "ipython3",
   "version": "3.7.10"
  }
 },
 "nbformat": 4,
 "nbformat_minor": 5
}
