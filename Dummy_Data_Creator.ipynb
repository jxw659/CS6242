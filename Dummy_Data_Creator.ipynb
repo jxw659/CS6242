{
 "cells": [
  {
   "cell_type": "code",
   "execution_count": 1,
   "id": "a07f33e5",
   "metadata": {},
   "outputs": [],
   "source": [
    "import pandas as pd\n",
    "import numpy as np\n",
    "import itertools"
   ]
  },
  {
   "cell_type": "code",
   "execution_count": 2,
   "id": "166daa9f",
   "metadata": {},
   "outputs": [],
   "source": [
    "value_dict = {\n",
    "  'is_claimed': [0,1],\n",
    "  'restaurant_categoryamerican': [0,1],\n",
    "  'restaurant_categoryasian': [0,1],\n",
    "  'restaurant_categorybreakfast': [0,1],\n",
    "  'restaurant_categorydesserts': [0,1],\n",
    "  'restaurant_categoryeuropean': [0,1],\n",
    "  'restaurant_categoryhawaiian': [0,1],\n",
    "  'restaurant_categorylatin': [0,1],\n",
    "  'restaurant_categorymideastern': [0,1],\n",
    "  'restaurant_categoryother': [0,1],\n",
    "  'pickup': [0,1],\n",
    "  'delivery': [0,1],\n",
    "  'reservation': [0,1],\n",
    "  'priceVeryHigh': [0,1],\n",
    "  'priceHigh': [0,1],\n",
    "  'priceMedium': [0,1],\n",
    "  'priceLow': [0,1],\n",
    "  'messaging': [0,1],\n",
    "  'Open_Breakfast': [0,1],\n",
    "  'Open_Lunch': [0,1],\n",
    "  'Open_Dinner': [0,1],\n",
    "  'Open_Late': [0,1]\n",
    "}"
   ]
  },
  {
   "cell_type": "code",
   "execution_count": 3,
   "id": "f872ccbf",
   "metadata": {},
   "outputs": [],
   "source": [
    "def dummy_generator(var_dict):\n",
    "    return pd.DataFrame(list(itertools.product(*[var_dict[key] for key in list(var_dict.keys())])), columns=list(var_dict.keys())).drop_duplicates().reset_index(drop = True)"
   ]
  },
  {
   "cell_type": "code",
   "execution_count": 4,
   "id": "ea015649",
   "metadata": {},
   "outputs": [],
   "source": [
    "dummy_data = dummy_generator(value_dict)"
   ]
  },
  {
   "cell_type": "code",
   "execution_count": 5,
   "id": "b9bd4270",
   "metadata": {},
   "outputs": [],
   "source": [
    "dummy_data.to_csv(\"Dummy_data.csv\")"
   ]
  }
 ],
 "metadata": {
  "kernelspec": {
   "display_name": "Python 3",
   "language": "python",
   "name": "python3"
  },
  "language_info": {
   "codemirror_mode": {
    "name": "ipython",
    "version": 3
   },
   "file_extension": ".py",
   "mimetype": "text/x-python",
   "name": "python",
   "nbconvert_exporter": "python",
   "pygments_lexer": "ipython3",
   "version": "3.7.10"
  }
 },
 "nbformat": 4,
 "nbformat_minor": 5
}
